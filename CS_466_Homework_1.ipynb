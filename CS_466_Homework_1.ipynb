{
  "nbformat": 4,
  "nbformat_minor": 0,
  "metadata": {
    "colab": {
      "provenance": []
    },
    "kernelspec": {
      "display_name": "Python 3",
      "name": "python3"
    },
    "language_info": {
      "codemirror_mode": {
        "name": "ipython",
        "version": 3
      },
      "file_extension": ".py",
      "mimetype": "text/x-python",
      "name": "python",
      "nbconvert_exporter": "python",
      "pygments_lexer": "ipython3",
      "version": "3.8.5"
    }
  },
  "cells": [
    {
      "cell_type": "markdown",
      "metadata": {
        "id": "lp7tRZfFOZg6"
      },
      "source": [
        "Before you turn this problem in, make sure everything runs as expected. First, **restart the kernel** (in the menubar, select Runtime$\\rightarrow$Factory reset runtime) and then **run all cells** (in the menubar, select Runtime$\\rightarrow$Run all).\n",
        "\n",
        "Make sure you fill in any place that says `YOUR CODE HERE` or \"YOUR ANSWER HERE\". Fill out your name below in the `NAME` variable."
      ]
    },
    {
      "cell_type": "code",
      "metadata": {
        "id": "t4fnV9HOOZg8"
      },
      "source": [
        "NAME = \"Ranjani Ramesh\""
      ],
      "execution_count": 33,
      "outputs": []
    },
    {
      "cell_type": "markdown",
      "metadata": {
        "id": "GuYaB4NSOZhA"
      },
      "source": [
        "---"
      ]
    },
    {
      "cell_type": "markdown",
      "metadata": {
        "deletable": false,
        "editable": false,
        "id": "PVLNYCWDo26k",
        "nbgrader": {
          "cell_type": "markdown",
          "checksum": "04577bd65a3b3658c831f999cbb52cda",
          "grade": false,
          "grade_id": "cell-4675131838cb443e",
          "locked": true,
          "schema_version": 3,
          "solution": false,
          "task": false
        }
      },
      "source": [
        "Install required dependency."
      ]
    },
    {
      "cell_type": "code",
      "metadata": {
        "deletable": false,
        "editable": false,
        "id": "tE5E-gV6o7tv",
        "nbgrader": {
          "cell_type": "code",
          "checksum": "c203f9acbfe134a2343eecab9d397b5f",
          "grade": false,
          "grade_id": "cell-5af4c9076118aacc",
          "locked": true,
          "schema_version": 3,
          "solution": false,
          "task": false
        },
        "colab": {
          "base_uri": "https://localhost:8080/"
        },
        "outputId": "888fb6fc-e29f-45b0-9327-1df4b9db5b19"
      },
      "source": [
        "!pip install nose"
      ],
      "execution_count": 34,
      "outputs": [
        {
          "output_type": "stream",
          "name": "stdout",
          "text": [
            "Requirement already satisfied: nose in /usr/local/lib/python3.10/dist-packages (1.3.7)\n"
          ]
        }
      ]
    },
    {
      "cell_type": "markdown",
      "metadata": {
        "deletable": false,
        "editable": false,
        "id": "PsqONjBfSWhx",
        "nbgrader": {
          "cell_type": "markdown",
          "checksum": "0767fb057e86cab65cbc09a9a68ccd2f",
          "grade": false,
          "grade_id": "cell-506c2d4969cf2ed1",
          "locked": true,
          "schema_version": 3,
          "solution": false,
          "task": false
        }
      },
      "source": [
        "Download the required data."
      ]
    },
    {
      "cell_type": "code",
      "metadata": {
        "deletable": false,
        "editable": false,
        "id": "RXlcaWyKQ6kt",
        "nbgrader": {
          "cell_type": "code",
          "checksum": "66152268ea1b65b1ebe89575f0d9a9dc",
          "grade": false,
          "grade_id": "cell-304a18bdb7d5ef59",
          "locked": true,
          "schema_version": 3,
          "solution": false,
          "task": false
        },
        "colab": {
          "base_uri": "https://localhost:8080/"
        },
        "outputId": "d174767f-2728-4f47-c4e0-c2375bad4f9f"
      },
      "source": [
        "!wget -c 'https://drive.google.com/uc?export=download&id=1LZDSe3BIVN8nS68WsoS1k_kicTdeq1uF' -O data.zip\n",
        "!unzip -o data.zip"
      ],
      "execution_count": 35,
      "outputs": [
        {
          "output_type": "stream",
          "name": "stdout",
          "text": [
            "--2024-09-19 01:48:28--  https://drive.google.com/uc?export=download&id=1LZDSe3BIVN8nS68WsoS1k_kicTdeq1uF\n",
            "Resolving drive.google.com (drive.google.com)... 173.194.194.138, 173.194.194.113, 173.194.194.102, ...\n",
            "Connecting to drive.google.com (drive.google.com)|173.194.194.138|:443... connected.\n",
            "HTTP request sent, awaiting response... 303 See Other\n",
            "Location: https://drive.usercontent.google.com/download?id=1LZDSe3BIVN8nS68WsoS1k_kicTdeq1uF&export=download [following]\n",
            "--2024-09-19 01:48:28--  https://drive.usercontent.google.com/download?id=1LZDSe3BIVN8nS68WsoS1k_kicTdeq1uF&export=download\n",
            "Resolving drive.usercontent.google.com (drive.usercontent.google.com)... 173.194.193.132, 2607:f8b0:4001:c0f::84\n",
            "Connecting to drive.usercontent.google.com (drive.usercontent.google.com)|173.194.193.132|:443... connected.\n",
            "HTTP request sent, awaiting response... 416 Requested range not satisfiable\n",
            "\n",
            "    The file is already fully retrieved; nothing to do.\n",
            "\n",
            "Archive:  data.zip\n",
            "  inflating: BLOSUM62.txt            \n",
            "  inflating: Q2b_reference.txt       \n"
          ]
        }
      ]
    },
    {
      "cell_type": "markdown",
      "metadata": {
        "deletable": false,
        "editable": false,
        "id": "HXQN16TjqcLN",
        "nbgrader": {
          "cell_type": "markdown",
          "checksum": "54a565efb33169187141a782be069559",
          "grade": false,
          "grade_id": "cell-ca95f93f1f5647b3",
          "locked": true,
          "schema_version": 3,
          "solution": false,
          "task": false
        }
      },
      "source": [
        "Show the downloaded data\n",
        "\n",
        "- `./BLOSUM62.txt`\n",
        "- `./Q2b_reference.txt`\n"
      ]
    },
    {
      "cell_type": "code",
      "metadata": {
        "deletable": false,
        "editable": false,
        "id": "81otexY9qQhK",
        "nbgrader": {
          "cell_type": "code",
          "checksum": "05a19d621e62d56f33f4685f56499b6c",
          "grade": false,
          "grade_id": "cell-072f3c8306ade380",
          "locked": true,
          "schema_version": 3,
          "solution": false,
          "task": false
        },
        "colab": {
          "base_uri": "https://localhost:8080/"
        },
        "outputId": "a870742d-a5e3-4ea8-f601-8e19c169edc5"
      },
      "source": [
        "!ls *.txt"
      ],
      "execution_count": 36,
      "outputs": [
        {
          "output_type": "stream",
          "name": "stdout",
          "text": [
            "BLOSUM62.txt  Q2b_reference.txt\n"
          ]
        }
      ]
    },
    {
      "cell_type": "markdown",
      "metadata": {
        "deletable": false,
        "editable": false,
        "id": "cU1S-CaROZhA",
        "nbgrader": {
          "cell_type": "markdown",
          "checksum": "0c6df0b3f8f70e16ad29fe24689fd395",
          "grade": false,
          "grade_id": "cell-39da46b0553caf87",
          "locked": true,
          "schema_version": 3,
          "solution": false,
          "task": false
        }
      },
      "source": [
        "# Sequence Alignment\n",
        "\n",
        "In bioinformatics, the problem of sequence alignment is reducible to a generalized form of edit distance. Sequence alignment is an instance of the weighted edit distance problem. Here, the cost of the elementary operations may vary according to the symbols involved. This generalization allows us to more accurately model processes in biological sequences that may lead to substitutions, insertions or deletions.\n",
        "\n",
        "As we saw in lecture, we can store the costs of elementary operations in the form of a scoring matrix $\\delta :$ ($\\Sigma$ $\\cup$ $\\{-\\})^{2}\\rightarrow$ $\\mathbb{R}$. The values of this scoring matrix depend on the biological context.\n",
        "\n",
        "## BLOSUM62\n",
        "\n",
        "The most widely used scoring matrix in amino acid sequence alignments is known as BLOSUM62. You can read more about BLOSUM here:\n",
        "\n",
        "* https://www.sciencedirect.com/topics/biochemistry-genetics-and-molecular-biology/blosum\n",
        "* https://en.wikipedia.org/wiki/BLOSUM\n",
        "* https://www.nlm.nih.gov/ncbi/workshops/2023-08_BLAST_evol/blast_score.html\n",
        "\n",
        "The BLOSUM.txt file that came in the HW1_supplement.zip contains the matrix.\n",
        "\n",
        "Note:\n",
        "* The `read_blosum62` function is specifically tailored to read only the file above. You should not need to change this function.\n",
        "* The matrix uses the `*` character for gaps, but we change it here to the `-` character."
      ]
    },
    {
      "cell_type": "code",
      "metadata": {
        "deletable": false,
        "editable": false,
        "id": "koon2oagOZhB",
        "nbgrader": {
          "cell_type": "code",
          "checksum": "3ed9bf770fe297b28f2ef15be5f7078d",
          "grade": false,
          "grade_id": "cell-79015f4ae29772af",
          "locked": true,
          "schema_version": 3,
          "solution": false,
          "task": false
        }
      },
      "source": [
        "def read_blosum62(path):\n",
        "    \"\"\"\n",
        "    Reads in the ncbi's BLOSUM62.txt file and loads the scoring matrix\n",
        "    into a dictionary.\n",
        "\n",
        "    :param: path is the full path in the local filesystem at which the .txt file is located\n",
        "    :return: a dictionary of dictionaries which will hold the cost of various amino acid\n",
        "    substitutions as defined in BLOSUM62.\n",
        "    \"\"\"\n",
        "    delta = {}\n",
        "    with open(path, 'r') as f:\n",
        "        lines = f.readlines()[6:]\n",
        "        keys = lines[0].split()\n",
        "        keys[-1] = '-'\n",
        "        for i, line in enumerate(lines[1:]):\n",
        "            delta[keys[i]] = {k : int(v) for (k,v) in zip(keys, line.split()[1:])}\n",
        "    return delta\n",
        "\n",
        "blosum = read_blosum62('./BLOSUM62.txt')"
      ],
      "execution_count": 37,
      "outputs": []
    },
    {
      "cell_type": "markdown",
      "metadata": {
        "deletable": false,
        "editable": false,
        "id": "WAKc2TT1OZhI",
        "nbgrader": {
          "cell_type": "markdown",
          "checksum": "5f05e46a86d4ef4a4347a34a88920537",
          "grade": false,
          "grade_id": "cell-7313ce91a551975d",
          "locked": true,
          "schema_version": 3,
          "solution": false,
          "task": false
        }
      },
      "source": [
        "## Question 1a - Global Alignment - 10 points\n",
        "\n",
        "Complete the function `global_align` defined below that uses the Needleman-Wunsch algorithm for global sequence alignment. The function should take two strings, and a scoring function, and compute the score of the optimal global alignment. It should return a tuple `(best score, optimal alignment)`.\n",
        "\n",
        "We have provided a function `traceback_global` that takes the two strings `v` and `w`, and a list of lists called\n",
        "`pointers`. This list is what you will use to record backpointers while running your sequence alignment algorithm.\n",
        "Each `pointers[i][j]` will be one of `UP`, `LEFT`, `TOPLEFT` or `ORIGIN`. The `traceback_global` function will insert gaps into the two strings where necessary, according to the backpointer table you pass it, and return the alignment to you.\n",
        "\n",
        "*Hint: Feel free to define helper functions for this and future questions on this notebook.*"
      ]
    },
    {
      "cell_type": "code",
      "metadata": {
        "deletable": false,
        "id": "GYSXMRcOOZhK",
        "nbgrader": {
          "cell_type": "code",
          "checksum": "5354883b9055e097c9b2e0f48edd193f",
          "grade": false,
          "grade_id": "cell-dc425c49e7d9bc70",
          "locked": false,
          "schema_version": 3,
          "solution": true
        }
      },
      "source": [
        "UP = (-1,0)\n",
        "LEFT = (0, -1)\n",
        "TOPLEFT = (-1, -1)\n",
        "ORIGIN = (0, 0)\n",
        "\n",
        "def traceback_global(v, w, pointers):\n",
        "    i,j = len(v), len(w)\n",
        "    new_v = []\n",
        "    new_w = []\n",
        "    while True:\n",
        "        di, dj = pointers[i][j]\n",
        "        if (di,dj) == LEFT:\n",
        "            new_v.append('-')\n",
        "            new_w.append(w[j-1])\n",
        "        elif (di,dj) == UP:\n",
        "            new_v.append(v[i-1])\n",
        "            new_w.append('-')\n",
        "        elif (di,dj) == TOPLEFT:\n",
        "            new_v.append(v[i-1])\n",
        "            new_w.append(w[j-1])\n",
        "        i, j = i + di, j + dj\n",
        "        if (i <= 0 and j <= 0):\n",
        "            break\n",
        "    return ''.join(new_v[::-1])+'\\n'+''.join(new_w[::-1])\n",
        "\n",
        "\n",
        "\n",
        "def global_align(v, w, delta):\n",
        "    \"\"\"\n",
        "    Returns the score of the maximum scoring alignment of the strings v and w, as well as the actual alignment as\n",
        "    computed by traceback_global.\n",
        "\n",
        "    :param: v\n",
        "    :param: w\n",
        "    :param: delta\n",
        "    \"\"\"\n",
        "\n",
        "    M = [[0 for j in range(len(w) + 1)] for i in range(len(v) + 1)]\n",
        "    pointers = [[ORIGIN for j in range(len(w) + 1)] for i in range(len(v) + 1)]\n",
        "    #Start off by setting the first row and the first column to gap penalitied scores (0, -1, -2, .. -n)\n",
        "    for i in range(1, len(v) + 1):\n",
        "        M[i][0] = M[i - 1][0] + delta[v[i - 1]]['-']\n",
        "        pointers[i][0] = UP\n",
        "    for j in range(1, len(w) + 1):\n",
        "        M[0][j] = M[0][j - 1] + delta['-'][w[j - 1]]\n",
        "        pointers[0][j] = LEFT\n",
        "\n",
        "\n",
        "    for i in range(1, len(v) + 1):\n",
        "        for j in range(1, len(w) + 1):\n",
        "            match_score = M[i - 1][j - 1] + delta[v[i - 1]][w[j - 1]]\n",
        "            delete_score = M[i - 1][j] + delta[v[i - 1]]['-']\n",
        "            insert_score = M[i][j - 1] + delta['-'][w[j - 1]]\n",
        "\n",
        "            M[i][j] = max(match_score, delete_score, insert_score)\n",
        "\n",
        "            if M[i][j] == match_score:\n",
        "                pointers[i][j] = TOPLEFT\n",
        "            elif M[i][j] == delete_score:\n",
        "                pointers[i][j] = UP\n",
        "            else:\n",
        "                pointers[i][j] = LEFT\n",
        "\n",
        "    score = M[len(v)][len(w)]\n",
        "    alignment = traceback_global(v, w, pointers)\n",
        "\n",
        "    return score, alignment"
      ],
      "execution_count": 38,
      "outputs": []
    },
    {
      "cell_type": "code",
      "metadata": {
        "deletable": false,
        "editable": false,
        "id": "YDB27GULOZhQ",
        "nbgrader": {
          "cell_type": "code",
          "checksum": "91ada5c22df2c04835466b3bf2753e1e",
          "grade": false,
          "grade_id": "cell-b12395628f2fa9dd",
          "locked": true,
          "schema_version": 3,
          "solution": false,
          "task": false
        },
        "colab": {
          "base_uri": "https://localhost:8080/"
        },
        "outputId": "2a901420-237e-4679-f7df-69be238b71a7"
      },
      "source": [
        "keys = ['A', 'C', 'T', 'G', '-']\n",
        "delta = {}\n",
        "for i in range(len(keys)):\n",
        "    delta[keys[i]] = {k : v for (k,v) in zip(keys, [1 if keys[i] == keys[j]  else -1 for j in range(len(keys))])}\n",
        "\n",
        "global_align(\"TAGATA\", \"GTAGGCTTAAGGTTA\", delta)"
      ],
      "execution_count": 39,
      "outputs": [
        {
          "output_type": "execute_result",
          "data": {
            "text/plain": [
              "(-3, '-TA-G----A---TA\\nGTAGGCTTAAGGTTA')"
            ]
          },
          "metadata": {},
          "execution_count": 39
        }
      ]
    },
    {
      "cell_type": "markdown",
      "metadata": {
        "deletable": false,
        "editable": false,
        "id": "q5vkthR4OZhZ",
        "nbgrader": {
          "cell_type": "markdown",
          "checksum": "fd46dd5f09a047c053499740919d59e0",
          "grade": false,
          "grade_id": "cell-d56bb7c7c2161ad4",
          "locked": true,
          "schema_version": 3,
          "solution": false
        }
      },
      "source": [
        "## Question 1b -- Global Alignment, Protein Data Bank -- 5 points\n",
        "\n",
        "https://www.rcsb.org/ provides a database of most known proteins. The search functionality allows us to find information on proteins via their *PDB ID* (https://www.rcsb.org/ [there is a search box in the top right corner]). You can get the exact amino acid sequence of chains in a protein by searching via the PDB ID, then under the *Display Files* dropdown menu, clicking *FASTA Sequence*.\n",
        "\n",
        "Use the function `global_align` with the BLOSUM62 scoring matrix to find the alignment score for the following pairs of amino acid sequences\n",
        "* The A-chain of human insulin (#4F1C:A) and the A-chain of bovine insulin (#2ZP6:A). Set the variable `scoreA` below to this value.\n",
        "* The B-chain of the above proteins. Set the variable `scoreB` below to this value.\n",
        "* Set the `alignmentA` and `alignmentB` variables to the output of `traceback_global` function for both chains."
      ]
    },
    {
      "cell_type": "code",
      "metadata": {
        "deletable": false,
        "id": "0ufBjeDAOZha",
        "nbgrader": {
          "cell_type": "code",
          "checksum": "7a147ece2028f8712af5a3bde20d20de",
          "grade": false,
          "grade_id": "cell-41162815d1c04b75",
          "locked": false,
          "schema_version": 3,
          "solution": true
        }
      },
      "source": [
        "scoreA = None\n",
        "scoreB = None\n",
        "alignmentA = None\n",
        "alignmentB = None\n",
        "# YOUR CODE HERE\n",
        "human_insulin_A = \"GIVEQCCTSICSLYQLENYCN\"\n",
        "human_insulin_B = \"FVNQHLCGSHLVEALYLVCGERGFFYTPKT\"\n",
        "bovine_insulin_A = \"GIVEQCCASVCSLYQLENYCN\"\n",
        "bovine_insulin_B = \"FVNQHLCGSHLVEALYLVCGERGFFYTPKA\"\n",
        "global_align(human_insulin_A, bovine_insulin_A, blosum)\n",
        "global_align(human_insulin_B, bovine_insulin_B, blosum)\n",
        "\n",
        "scoreA = global_align(human_insulin_A, bovine_insulin_A, blosum)[0]\n",
        "scoreB = global_align(human_insulin_B, bovine_insulin_B, blosum)[0]\n",
        "alignmentA = global_align(human_insulin_A, bovine_insulin_A, blosum)[1]\n",
        "alignmentB = global_align(human_insulin_A, bovine_insulin_A, blosum)[1]\n",
        "\n",
        "# raise NotImplementedError()"
      ],
      "execution_count": 40,
      "outputs": []
    },
    {
      "cell_type": "code",
      "metadata": {
        "deletable": false,
        "editable": false,
        "id": "1wF4ZXevOZhd",
        "nbgrader": {
          "cell_type": "code",
          "checksum": "ee6ae164952208c06d856d2df5199baf",
          "grade": true,
          "grade_id": "cell-49569ad025096c67",
          "locked": true,
          "points": 15,
          "schema_version": 3,
          "solution": false
        }
      },
      "source": [
        "import nose.tools as Test\n",
        "\n",
        "# Student test cases (You may add more)\n",
        "Test.assert_equal(global_align('LRRGEPVY', 'LEKGDTLYILVG', blosum)[0], 5)\n",
        "Test.assert_equal(global_align('ALYFFT', 'QCASVT', blosum)[0], -2)\n",
        "keys = ['A', 'C', 'T', 'G', '-']\n",
        "delta = {}\n",
        "for i in range(len(keys)):\n",
        "    delta[keys[i]] = {k : v for (k,v) in zip(keys, [1 if keys[i] == keys[j]  else -1 for j in range(len(keys))])}\n",
        "Test.assert_equal(global_align('GTTTTATAGC', 'TGGATCGAT', delta)[0], -3)\n"
      ],
      "execution_count": 41,
      "outputs": []
    },
    {
      "cell_type": "markdown",
      "metadata": {
        "deletable": false,
        "editable": false,
        "id": "JwAWBxVcOZhg",
        "nbgrader": {
          "cell_type": "markdown",
          "checksum": "26b3ac60de75ffd21be9c8d51d3143ec",
          "grade": false,
          "grade_id": "cell-6d9a3fa41e5c50f5",
          "locked": true,
          "schema_version": 3,
          "solution": false
        }
      },
      "source": [
        "## Question 2a - Fitting Alignment - 10 points\n",
        "\n",
        "As we know, next generation sequencing doesn't produce a fully sequenced genome, but rather many short reads. Here, we use fitting alignment.\n",
        "\n",
        "Complete the `fitting_align` function defined below. The function should take a short read string, a reference genome string, and a scoring matrix, and return the score of the maximum scoring alignment of the short read and all substrings of the reference string, along with the actual fitting alignmnet as computed by the given function `traceback_fitting`. This function is similar to `traceback_global` but also requires you to pass in your dynamic programming table `M`, as well as the starting column for the backtrace `init_j`.\n",
        "\n",
        "** Note: In the case of ties with respect to determining the starting column for the backtrace, use the rightmost.**"
      ]
    },
    {
      "cell_type": "code",
      "metadata": {
        "deletable": false,
        "id": "DE_7Cs8TOZhi",
        "nbgrader": {
          "cell_type": "code",
          "checksum": "942624b28c5ee01e928fba546e850b16",
          "grade": false,
          "grade_id": "cell-5907258be80654a4",
          "locked": false,
          "schema_version": 3,
          "solution": true
        }
      },
      "source": [
        "UP = (-1,0)\n",
        "LEFT = (0, -1)\n",
        "TOPLEFT = (-1, -1)\n",
        "ORIGIN = (0, 0)\n",
        "\n",
        "def traceback_fitting(v, w, M, init_j, pointers):\n",
        "    i, j = len(v), init_j\n",
        "    new_v = []\n",
        "    new_w = []\n",
        "    while True:\n",
        "        di, dj = pointers[i][j]\n",
        "        if (di,dj) == LEFT:\n",
        "            new_v.append('-')\n",
        "            new_w.append(w[j-1])\n",
        "        elif (di,dj) == UP:\n",
        "            new_v.append(v[i-1])\n",
        "            new_w.append('-')\n",
        "        elif (di,dj) == TOPLEFT:\n",
        "            new_v.append(v[i-1])\n",
        "            new_w.append(w[j-1])\n",
        "        i, j = i + di, j + dj\n",
        "        if (i <= 0):\n",
        "            break\n",
        "    return ''.join(new_v[::-1]) + '\\n'+''.join(new_w[::-1])\n",
        "\n",
        "def fitting_align(short, reference, delta):\n",
        "    \"\"\"\n",
        "    Returns the score of the maximum scoring alignment of short and all\n",
        "    substrings of reference.\n",
        "\n",
        "    :param: short the shorter of the two strings we are trying to align\n",
        "    :param: reference the longer string among whose substrings we are doing global alignment\n",
        "    :param: delta the scoring function for the alphabet of the two strings\n",
        "\n",
        "    :returns: a tuple (score, alignment)\n",
        "    \"\"\"\n",
        "    M = [[0 for j in range(len(reference)+1)] for i in range(len(short)+1)]\n",
        "    pointers = [[ORIGIN for j in range(len(reference)+1)] for i in range(len(short)+1)]\n",
        "    score = None\n",
        "    init_j = 0\n",
        "\n",
        "    for i in range(1, len(short) + 1):\n",
        "        M[i][0] = M[i - 1][0] + delta[short[i - 1]]['-']\n",
        "        pointers[i][0] = UP\n",
        "\n",
        "    for j in range(1, len(reference) + 1):\n",
        "      M[0][j] = 0\n",
        "\n",
        "    for i in range(1, len(short) + 1):\n",
        "        for j in range(1, len(reference) + 1):\n",
        "            match_score = M[i - 1][j - 1] + delta[short[i - 1]][reference[j - 1]]\n",
        "            delete_score = M[i - 1][j] + delta[short[i - 1]]['-']\n",
        "            insert_score = M[i][j - 1] + delta['-'][reference[j - 1]]\n",
        "\n",
        "            M[i][j] = max(match_score, delete_score, insert_score)\n",
        "\n",
        "            if M[i][j] == match_score:\n",
        "                pointers[i][j] = TOPLEFT\n",
        "            elif M[i][j] == delete_score:\n",
        "                pointers[i][j] = UP\n",
        "            else:\n",
        "                pointers[i][j] = LEFT\n",
        "\n",
        "    #Finding the best score\n",
        "    best_score = M[len(short)][0]\n",
        "    init_j = 0\n",
        "    for j in range(1, len(reference) + 1):\n",
        "        if M[len(short)][j] >= best_score:  # The = sign accounts for the tie-break\n",
        "            best_score = M[len(short)][j]\n",
        "            init_j = j\n",
        "\n",
        "    score = best_score\n",
        "    # raise NotImplementedError()\n",
        "    alignment = traceback_fitting(short,reference,M, init_j,pointers)\n",
        "\n",
        "    return best_score, alignment"
      ],
      "execution_count": 42,
      "outputs": []
    },
    {
      "cell_type": "code",
      "metadata": {
        "deletable": false,
        "editable": false,
        "id": "SBkmkQnOOZho",
        "nbgrader": {
          "cell_type": "code",
          "checksum": "1bfbb680b133f189241d252202da63e3",
          "grade": false,
          "grade_id": "cell-dadf534ca78fa160",
          "locked": true,
          "schema_version": 3,
          "solution": false,
          "task": false
        },
        "colab": {
          "base_uri": "https://localhost:8080/"
        },
        "outputId": "0f5dbfa8-e0e4-4319-aaba-ea83a4e9e0bb"
      },
      "source": [
        "keys = ['A', 'C', 'T', 'G', '-']\n",
        "delta = {}\n",
        "for i in range(len(keys)):\n",
        "    delta[keys[i]] = {k : v for (k,v) in zip(keys, [1 if keys[i] == keys[j]  else -1 for j in range(len(keys))])}\n",
        "\n",
        "fitting_align(\"TAGATA\", \"GTAGGCTTAAGGTTA\", delta)"
      ],
      "execution_count": 43,
      "outputs": [
        {
          "output_type": "execute_result",
          "data": {
            "text/plain": [
              "(2, 'T-A-GATA\\nTAAGGTTA')"
            ]
          },
          "metadata": {},
          "execution_count": 43
        }
      ]
    },
    {
      "cell_type": "code",
      "metadata": {
        "deletable": false,
        "editable": false,
        "id": "FXxKgA-eOZhu",
        "nbgrader": {
          "cell_type": "code",
          "checksum": "cce75b39812f16ec3365167f7ccd15e6",
          "grade": true,
          "grade_id": "cell-057e4f4d500c3780",
          "locked": true,
          "points": 10,
          "schema_version": 3,
          "solution": false
        }
      },
      "source": [
        "import nose.tools as Test\n",
        "\n",
        "# Define scoring matrix\n",
        "keys = ['A', 'C', 'T', 'G', '-']\n",
        "delta = {}\n",
        "for i in range(len(keys)):\n",
        "    delta[keys[i]] = {k : v for (k,v) in zip(keys, [1 if keys[i] == keys[j]  else -1 for j in range(len(keys))])}\n",
        "delta['-']['-'] = -1\n",
        "\n",
        "# Student test cases (You can add more)\n",
        "Test.assert_equal(fitting_align('ACTGCT', 'ACTGTCGTACGTGTACGTGCTATTACGATTCGGATGCATTGTGCATTTGGGCGATCTTATTCTTATC', delta)[0],\\\n",
        "                  5)\n",
        "Test.assert_equal(fitting_align('PPPVP','MHHHHHHSSPIDPPGKPVPLNITRHTVTLKWAKPEYTGGFKITSYIVEKRDLPNGRWLKANFSNILENEFTVSGLTEDAA\\\n",
        "YEFRVIAKNAAGAISPPSEPSDAITCRDDVEA', blosum)[0], 24)\n"
      ],
      "execution_count": 44,
      "outputs": []
    },
    {
      "cell_type": "markdown",
      "metadata": {
        "deletable": false,
        "editable": false,
        "id": "uOeVGMqQJN1J",
        "nbgrader": {
          "cell_type": "markdown",
          "checksum": "4bfd2b3276393f45ff9563257d8281f4",
          "grade": false,
          "grade_id": "cell-7e4c42b0bbd3e634",
          "locked": true,
          "schema_version": 3,
          "solution": false,
          "task": false
        }
      },
      "source": [
        "## Question 2b - Fitting Alignment - 5 points\n",
        "\n",
        "After writing the function use it to align the reference sequence `./Q2b_reference.txt` and the short read provided below. The reference is a partial version of the human Y-chromosome reference found at [https://www.ncbi.nlm.nih.gov/nuccore/NC_000024.10?report=fasta](https://www.ncbi.nlm.nih.gov/nuccore/NC_000024.10?report=fasta).\n",
        "\n",
        "Set the variable `score_fitting` to the fitting alignment score, and set the `alignment_fitting` to the output of the `traceback_fitting` function. You can use the scoring matrix defined below.\n",
        "\n",
        "** Note: The reference sequence is very large, and so the fitting alignment will take a few minutes. Make sure you use dynamic programming to implement your alignment functions, or the cell will never finish. **"
      ]
    },
    {
      "cell_type": "code",
      "source": [
        "file_path = \"/content/Q2b_reference.txt\"\n",
        "\n",
        "with open(file_path, 'r') as file:\n",
        "    file_content = ''\n",
        "    line = file.readline()\n",
        "    # print(line)\n",
        "    line = file.readline()\n",
        "    while line:\n",
        "        file_content += line\n",
        "        line = file.readline()\n",
        "\n",
        "file_content = file_content.replace('\\n', '')\n",
        "print(list(set(file_content)))\n",
        ""
      ],
      "metadata": {
        "colab": {
          "base_uri": "https://localhost:8080/"
        },
        "id": "UfElEGxEIsxF",
        "outputId": "0a132c18-ade9-40fe-f0a6-eda908a4ae06"
      },
      "execution_count": 45,
      "outputs": [
        {
          "output_type": "stream",
          "name": "stdout",
          "text": [
            "['G', 'T', 'A', 'C']\n"
          ]
        }
      ]
    },
    {
      "cell_type": "code",
      "metadata": {
        "deletable": false,
        "editable": true,
        "id": "-bzNflRBOZhr",
        "nbgrader": {
          "cell_type": "code",
          "checksum": "0fae1e7c45ccf4cf10c22eec86b6f0c5",
          "grade": true,
          "grade_id": "cell-4e3457bc42a54b0d",
          "locked": false,
          "points": 5,
          "schema_version": 3,
          "solution": false,
          "task": false
        },
        "colab": {
          "base_uri": "https://localhost:8080/"
        },
        "outputId": "610bbf3c-ef1b-40d3-cc97-d965bb58396c"
      },
      "source": [
        "short = 'CCCAAAGCCCGGTGGAAAAAGACAGCCCGGCGAAGACCCAAAGCCCAGCCCAAGACACCTCAATCATGTCGAGAAATAACGCAGATACAGGCAGAGTTCTTGCCTTACCAGAGCACAAGAAGAAGCGCAAGGGAAAC'\n",
        "keys = ['A', 'C', 'T', 'G', '-']\n",
        "delta_fitting = {}\n",
        "for i in range(len(keys)):\n",
        "    delta_fitting[keys[i]] = {k : v for (k,v) in zip(keys, [1 if keys[i] == keys[j]  else -1 for j in range(len(keys))])}\n",
        "delta_fitting['-']['-'] = -1\n",
        "\n",
        "# Read the reference sequence, and call your fitting alignment function\n",
        "# YOUR CODE HERE\n",
        "tup = fitting_align(short, file_content, delta_fitting)\n",
        "score_fitting = tup[0]\n",
        "alignment_fitting = tup[1]\n",
        "\n",
        "print(score_fitting, alignment_fitting)\n"
      ],
      "execution_count": 46,
      "outputs": [
        {
          "output_type": "stream",
          "name": "stdout",
          "text": [
            "137 CCCAAAGCCCGGTGGAAAAAGACAGCCCGGCGAAGACCCAAAGCCCAGCCCAAGACACCTCAATCATGTCGAGAAATAACGCAGATACAGGCAGAGTTCTTGCCTTACCAGAGCACAAGAAGAAGCGCAAGGGAAAC\n",
            "CCCAAAGCCCGGTGGAAAAAGACAGCCCGGCGAAGACCCAAAGCCCAGCCCAAGACACCTCAATCATGTCGAGAAATAACGCAGATACAGGCAGAGTTCTTGCCTTACCAGAGCACAAGAAGAAGCGCAAGGGAAAC\n"
          ]
        }
      ]
    },
    {
      "cell_type": "markdown",
      "metadata": {
        "deletable": false,
        "editable": false,
        "id": "uduGvQzLOZhw",
        "nbgrader": {
          "cell_type": "markdown",
          "checksum": "c2fafaf12a25e4761b1b5d08a9bcc4d7",
          "grade": false,
          "grade_id": "cell-af7eaef73243d09f",
          "locked": true,
          "schema_version": 3,
          "solution": false,
          "task": false
        }
      },
      "source": [
        "## Question 2c - 5 points\n",
        "\n",
        "Find the name of the gene the short read in the question above originated from. Save your answer in variable `ANSWER` below.\n",
        "\n",
        "*Hint : There is an online tool that will do this for you*"
      ]
    },
    {
      "cell_type": "code",
      "metadata": {
        "deletable": false,
        "id": "BnFkAzwmJ2DX",
        "nbgrader": {
          "cell_type": "code",
          "checksum": "1d875efd3d7df9a00d3c5bc16d586c70",
          "grade": true,
          "grade_id": "cell-39bf2f4158cb333b",
          "locked": false,
          "points": 5,
          "schema_version": 3,
          "solution": true,
          "task": false
        }
      },
      "source": [
        "# YOUR CODE HERE\n",
        "ANSWER=\"TGIF2LY\"\n",
        "# raise NotImplementedError()"
      ],
      "execution_count": 47,
      "outputs": []
    },
    {
      "cell_type": "markdown",
      "metadata": {
        "deletable": false,
        "editable": false,
        "id": "7mlMDzKFOZhy",
        "nbgrader": {
          "cell_type": "markdown",
          "checksum": "a09acaf845b4df58f0e8c364162c0ca7",
          "grade": false,
          "grade_id": "cell-c0c661536a3b56c8",
          "locked": true,
          "schema_version": 3,
          "solution": false
        }
      },
      "source": [
        "## Question 3 - Local Alignment - 15 points\n",
        "\n",
        "Finally, we use local alignment for things like aligning functional units of proteins called domains.\n",
        "\n",
        "Use the Smith-Waterman algorithm to complete the function `local_align` defined below that takes two strings `v` and `w` and a scoring matrix, and returns the maximum scoring global alignment across all substrings of `v` and `w`, as well as the alignment string produced by `traceback_local`. As with the above functions, you must record backpointers. This function is very similar to `traceback_fitting`, except it also takes the starting cell for the back trace in the form of coordinates `init_i, init_j`.\n",
        "\n",
        "** Note: In the case of ties with respect to determining the starting column for the backtrace, use the bottom-right most cell.**"
      ]
    },
    {
      "cell_type": "code",
      "metadata": {
        "deletable": false,
        "id": "pCgYmqFYOZhy",
        "nbgrader": {
          "cell_type": "code",
          "checksum": "27a9cd3105f1fedb3e59b52208f62da2",
          "grade": false,
          "grade_id": "cell-0f8d6da9a1e58ec1",
          "locked": false,
          "schema_version": 3,
          "solution": true
        }
      },
      "source": [
        "UP = (-1,0)\n",
        "LEFT = (0, -1)\n",
        "TOPLEFT = (-1, -1)\n",
        "ORIGIN = (0, 0)\n",
        "\n",
        "def traceback_local(v, w, M, init_i, init_j, pointers):\n",
        "    i,j = init_i, init_j\n",
        "    new_v = []\n",
        "    new_w = []\n",
        "    while True:\n",
        "        di, dj = pointers[i][j]\n",
        "        if (di,dj) == LEFT:\n",
        "            new_v.append('-')\n",
        "            new_w.append(w[j-1])\n",
        "        elif (di,dj) == UP:\n",
        "            new_v.append(v[i-1])\n",
        "            new_w.append('-')\n",
        "        elif (di,dj) == TOPLEFT:\n",
        "            new_v.append(v[i-1])\n",
        "            new_w.append(w[j-1])\n",
        "        i, j = i + di, j + dj\n",
        "        if (M[i][j] == 0):\n",
        "            break\n",
        "    return ''.join(new_v[::-1]) + '\\n'+''.join(new_w[::-1])\n",
        "\n",
        "def local_align(v, w, delta):\n",
        "    \"\"\"\n",
        "    Returns the score of the maximum scoring alignment of all possible substrings of v and w.\n",
        "\n",
        "    :param: v\n",
        "    :param: w\n",
        "    :param: delta\n",
        "    \"\"\"\n",
        "    M = [[0 for j in range(len(w)+1)] for i in range(len(v)+1)]\n",
        "    pointers = [[ORIGIN for j in range(len(w)+1)] for i in range(len(v)+1)]\n",
        "    max_score = 0\n",
        "    init_i, init_j = 0, 0\n",
        "\n",
        "    for i in range(1, len(v)+1):\n",
        "        for j in range(1, len(w)+1):\n",
        "\n",
        "            matching = M[i-1][j-1] + delta[v[i - 1]][w[j - 1]]\n",
        "            delete = M[i-1][j] + delta[v[i - 1]]['-']\n",
        "            insert = M[i][j-1] + delta['-'][w[j - 1]]\n",
        "\n",
        "            M[i][j] = max(0, matching, delete, insert)\n",
        "\n",
        "            if M[i][j] == matching:\n",
        "                pointers[i][j] = TOPLEFT\n",
        "            elif M[i][j] == delete:\n",
        "                pointers[i][j] = UP\n",
        "            elif M[i][j] == insert:\n",
        "                pointers[i][j] = LEFT\n",
        "            else:\n",
        "                pointers[i][j] = ORIGIN\n",
        "\n",
        "            if M[i][j] >= max_score:\n",
        "                max_score = M[i][j]\n",
        "                init_i, init_j = i, j\n",
        "\n",
        "    alignment = traceback_local(v, w, M, init_i, init_j, pointers)\n",
        "\n",
        "    return max_score, alignment"
      ],
      "execution_count": 48,
      "outputs": []
    },
    {
      "cell_type": "code",
      "metadata": {
        "deletable": false,
        "editable": false,
        "id": "I2tynPENOZh1",
        "nbgrader": {
          "cell_type": "code",
          "checksum": "aa3ea79c644a000d93f2d6380bcd3448",
          "grade": false,
          "grade_id": "cell-17859569022d56aa",
          "locked": true,
          "schema_version": 3,
          "solution": false,
          "task": false
        },
        "colab": {
          "base_uri": "https://localhost:8080/"
        },
        "outputId": "38b1146c-e895-44cb-8f73-3541d9e63f71"
      },
      "source": [
        "keys = ['A', 'C', 'T', 'G', '-']\n",
        "delta = {}\n",
        "for i in range(len(keys)):\n",
        "    delta[keys[i]] = {k : v for (k,v) in zip(keys, [1 if keys[i] == keys[j]  else -1 for j in range(len(keys))])}\n",
        "\n",
        "local_align(\"TAGATA\", \"GTAGGCTTAAGGTTA\", delta)"
      ],
      "execution_count": 49,
      "outputs": [
        {
          "output_type": "execute_result",
          "data": {
            "text/plain": [
              "(3, 'TAG\\nTAG')"
            ]
          },
          "metadata": {},
          "execution_count": 49
        }
      ]
    },
    {
      "cell_type": "markdown",
      "metadata": {
        "deletable": false,
        "editable": false,
        "id": "YcDDM9K8OZh3",
        "nbgrader": {
          "cell_type": "markdown",
          "checksum": "c733cac5c10bea38331f7b6c66872ad0",
          "grade": false,
          "grade_id": "cell-11d7b1653351158c",
          "locked": true,
          "schema_version": 3,
          "solution": false
        }
      },
      "source": [
        "Use your `local_align` function to find the common domain between the two amino acid sequences given below.\n",
        "* Set the `score_local` variable to the output of your function.\n",
        "* Set the `alignment_local` variable to the output of the `traceback_local` function."
      ]
    },
    {
      "cell_type": "code",
      "metadata": {
        "deletable": false,
        "id": "Q7gESLZxOZh4",
        "nbgrader": {
          "cell_type": "code",
          "checksum": "1d799a047c4609bff121b695e71e1629",
          "grade": false,
          "grade_id": "cell-f37ba5b055e2d307",
          "locked": false,
          "schema_version": 3,
          "solution": true
        }
      },
      "source": [
        "LTK_MOUSE = \"MGCSHRLLLWLGAAGTILCSNSEFQTPFLTPSLLPVLVLNSQEQKVTPTP\\\n",
        "SKLEPASLPNPLGTRGPWVFNTCGASGRSGPTQTQCDGAYTGSSVMVTVG\\\n",
        "AAGPLKGVQLWRVPDTGQYLISAYGAAGGKGAQNHLSRAHGIFLSAVFFL\\\n",
        "RRGEPVYILVGQQGQDACPGGSPESQLVCLGESGEHATTYGTERIPGWRR\\\n",
        "WAGGGGGGGGATSIFRLRAGEPEPLLVAAGGGGRSYRRRPDRGRTQAVPE\\\n",
        "RLETRAAAPGSGGRGGAAGGGSGWTSRAHSPQAGRSPREGAEGGEGCAEA\\\n",
        "WAALRWAAAGGFGGGGGACAAGGGGGGYRGGDTSESDLLWADGEDGTSFV\\\n",
        "HPSGELYLQPLAVTEGHGEVEIRKHPNCSHCPFKDCQWQAELWTAECTCP\\\n",
        "EGTELAVDNVTCMDLPTTASPLILMGAVVAALALSLLMMCAVLILVNQKC\\\n",
        "QGLWGTRLPGPELELSKLRSSAIRTAPNPYYCQVGLSPAQPWPLPPGLTE\\\n",
        "VSPANVTLLRALGHGAFGEVYEGLVTGLPGDSSPLPVAIKTLPELCSHQD\\\n",
        "ELDFLMEALIISKFSHQNIVRCVGLSFRSAPRLILLELMSGGDMKSFLRH\\\n",
        "SRPHPGQLAPLTMQDLLQLAQDIAQGCHYLEENHFIHRDIAARNCLLSCS\\\n",
        "GASRVAKIGDFGMARDIYQASYYRKGGRTLLPVKWMPPEALLEGLFTSKT\\\n",
        "DSWSFGVLLWEIFSLGYMPYPGHTNQEVLDFIATGNRMDPPRNCPGPVYR\\\n",
        "IMTQCWQHQPELRPDFGSILERIQYCTQDPDVLNSPLPVEPGPILEEEEA\\\n",
        "SRLGNRSLEGLRSPKPLELSSQNLKSWGGGLLGSWLPSGLKTLKPRCLQP\\\n",
        "QNIWNPTYGSWTPRGPQGEDTGIEHCNGSSSSSIPGIQ\"\n",
        "\n",
        "ATK_MOUSE = \"MGAAGFLWLLPPLLLAAASYSGAATDQRAGSPASGPPLQPREPLSYSRLQ\\\n",
        "RKSLAVDFVVPSLFRVYARDLLLPQPRSPSEPEAGGLEARGSLALDCEPL\\\n",
        "LRLLGPLPGISWADGASSPSPEAGPTLSRVLKGGSVRKLRRAKQLVLELG\\\n",
        "EETILEGCIGPPEEVAAVGILQFNLSELFSWWILHGEGRLRIRLMPEKKA\\\n",
        "SEVGREGRLSSAIRASQPRLLFQIFGTGHSSMESPSETPSPPGTFMWNLT\\\n",
        "WTMKDSFPFLSHRSRYGLECSFDFPCELEYSPPLHNHGNQSWSWRHVPSE\\\n",
        "EASRMNLLDGPEAEHSQEMPRGSFLLLNTSADSKHTILSPWMRSSSDHCT\\\n",
        "LAVSVHRHLQPSGRYVAQLLPHNEAGREILLVPTPGKHGWTVLQGRVGRP\\\n",
        "ANPFRVALEYISSGNRSLSAVDFFALKNCSEGTSPGSKMALQSSFTCWNG\\\n",
        "TVLQLGQACDFHQDCAQGEDEGQLCSKLPAGFYCNFENGFCGWTQSPLSP\\\n",
        "HMPRWQVRTLRDAHSQGHQGRALLLSTTDILASEGATVTSATFPAPMKNS\\\n",
        "PCELRMSWLIRGVLRGNVSLVLVENKTGKEQSRTVWHVATDEGLSLWQHT\\\n",
        "VLSLLDVTDRFWLQIVTWWGPGSRATVGFDNISISLDCYLTISGEEKMSL\\\n",
        "NSVPKSRNLFEKNPNKESKSWANISGPTPIFDPTVHWLFTTCGASGPHGP\\\n",
        "TQAQCNNAYQNSNLSVVVGSEGPLKGVQIWKVPATDTYSISGYGAAGGKG\\\n",
        "GKNTMMRSHGVSVLGIFNLEKGDTLYILVGQQGEDACPRANQLIQKVCVG\\\n",
        "ENNVIEEEIRVNRSVHEWAGGGGGGGGATYVFKMKDGVPVPLIIAAGGGG\\\n",
        "RAYGAKTETFHPERLESNSSVLGLNGNSGAAGGGGGWNDNTSLLWAGKSL\\\n",
        "LEGAAGGHSCPQAMKKWGWETRGGFGGGGGGCSSGGGGGGYIGGNAASNN\\\n",
        "DPEMDGEDGVSFISPLGILYTPALKVMEGHGEVNIKHYLNCSHCEVDECH\\\n",
        "MDPESHKVICFCDHGTVLADDGVSCIVSPTPEPHLPLSLILSVVTSALVA\\\n",
        "ALVLAFSGIMIVYRRKHQELQAMQMELQSPEYKLSKLRTSTIMTDYNPNY\\\n",
        "CFAGKTSSISDLKEVPRKNITLIRGLGHGAFGEVYEGQVSGMPNDPSPLQ\\\n",
        "VAVKTLPEVCSEQDELDFLMEALIISKFNHQNIVRCIGVSLQALPRFILL\\\n",
        "ELMAGGDLKSFLRETRPRPNQPTSLAMLDLLHVARDIACGCQYLEENHFI\\\n",
        "HRDIAARNCLLTCPGAGRIAKIGDFGMARDIYRASYYRKGGCAMLPVKWM\\\n",
        "PPEAFMEGIFTSKTDTWSFGVLLWEIFSLGYMPYPSKSNQEVLEFVTSGG\\\n",
        "RMDPPKNCPGPVYRIMTQCWQHQPEDRPNFAIILERIEYCTQDPDVINTA\\\n",
        "LPIEYGPVVEEEEKVPMRPKDPEGMPPLLVSPQPAKHEEASAAPQPAALT\\\n",
        "APGPSVKKPPGAGAGAGAGAGAGPVPRGAADRGHVNMAFSQPNPPPELHK\\\n",
        "GPGSRNKPTSLWNPTYGSWFTEKPAKKTHPPPGAEPQARAGAAEGGWTGP\\\n",
        "GAGPRRAEAALLLEPSALSATMKEVPLFRLRHFPCGNVNYGYQQQGLPLE\\\n",
        "ATAAPGDTMLKSKNKVTQPGP\"\n",
        "\n",
        "tup = local_align(LTK_MOUSE, ATK_MOUSE, blosum)\n",
        "score_local, alignment_local = tup[0], tup[1]\n",
        "\n",
        "# YOUR CODE HERE\n",
        "# raise NotImplementedError()\n"
      ],
      "execution_count": 50,
      "outputs": []
    },
    {
      "cell_type": "code",
      "metadata": {
        "deletable": false,
        "editable": false,
        "id": "bgL8YgDtOZh7",
        "nbgrader": {
          "cell_type": "code",
          "checksum": "085a1b8dfaf37054683e93c964609819",
          "grade": true,
          "grade_id": "cell-5b737423ad2b4fc0",
          "locked": true,
          "points": 15,
          "schema_version": 3,
          "solution": false
        }
      },
      "source": [
        "import nose.tools as Test\n",
        "# Student test cases (You may add more)\n",
        "keys = ['A', 'C', 'T', 'G', '-']\n",
        "delta_local = {}\n",
        "for i in range(len(keys)):\n",
        "    delta_local[keys[i]] = {k : v for (k,v) in zip(keys, [1 if keys[i] == keys[j]  else -1 for j in range(len(keys))])}\n",
        "delta_local['-']['-'] = -1\n",
        "Test.assert_equal(local_align(\"TACGTGACGTCTATCAT\", \"TTGTGCATGTATCTGAC\", delta_local)[0], 6)\n",
        "Test.assert_equal(local_align(\"ACTGATTTCGATGCTGTACGTGACGTACGTTTATTCTATCAT\", \"TCTGACTGTGACTATACTATTGTGCATGTATCTGACTAGCTAG\", delta_local)[0], 13)\n"
      ],
      "execution_count": 51,
      "outputs": []
    }
  ]
}